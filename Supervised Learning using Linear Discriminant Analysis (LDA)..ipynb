{
 "cells": [
  {
   "cell_type": "code",
   "execution_count": 1,
   "metadata": {},
   "outputs": [],
   "source": [
    "import pandas as pd\n",
    "import numpy as np\n",
    "import matplotlib.pyplot as plt\n",
    "from sklearn import datasets\n",
    "from sklearn.model_selection import train_test_split\n",
    "from sklearn.metrics import accuracy_score\n",
    "from scipy.stats import multivariate_normal"
   ]
  },
  {
   "cell_type": "markdown",
   "metadata": {},
   "source": [
    "1. Inserting the iris dataset\n"
   ]
  },
  {
   "cell_type": "code",
   "execution_count": 2,
   "metadata": {},
   "outputs": [
    {
     "data": {
      "text/plain": [
       "{'data': array([[5.1, 3.5, 1.4, 0.2],\n",
       "        [4.9, 3. , 1.4, 0.2],\n",
       "        [4.7, 3.2, 1.3, 0.2],\n",
       "        [4.6, 3.1, 1.5, 0.2],\n",
       "        [5. , 3.6, 1.4, 0.2],\n",
       "        [5.4, 3.9, 1.7, 0.4],\n",
       "        [4.6, 3.4, 1.4, 0.3],\n",
       "        [5. , 3.4, 1.5, 0.2],\n",
       "        [4.4, 2.9, 1.4, 0.2],\n",
       "        [4.9, 3.1, 1.5, 0.1],\n",
       "        [5.4, 3.7, 1.5, 0.2],\n",
       "        [4.8, 3.4, 1.6, 0.2],\n",
       "        [4.8, 3. , 1.4, 0.1],\n",
       "        [4.3, 3. , 1.1, 0.1],\n",
       "        [5.8, 4. , 1.2, 0.2],\n",
       "        [5.7, 4.4, 1.5, 0.4],\n",
       "        [5.4, 3.9, 1.3, 0.4],\n",
       "        [5.1, 3.5, 1.4, 0.3],\n",
       "        [5.7, 3.8, 1.7, 0.3],\n",
       "        [5.1, 3.8, 1.5, 0.3],\n",
       "        [5.4, 3.4, 1.7, 0.2],\n",
       "        [5.1, 3.7, 1.5, 0.4],\n",
       "        [4.6, 3.6, 1. , 0.2],\n",
       "        [5.1, 3.3, 1.7, 0.5],\n",
       "        [4.8, 3.4, 1.9, 0.2],\n",
       "        [5. , 3. , 1.6, 0.2],\n",
       "        [5. , 3.4, 1.6, 0.4],\n",
       "        [5.2, 3.5, 1.5, 0.2],\n",
       "        [5.2, 3.4, 1.4, 0.2],\n",
       "        [4.7, 3.2, 1.6, 0.2],\n",
       "        [4.8, 3.1, 1.6, 0.2],\n",
       "        [5.4, 3.4, 1.5, 0.4],\n",
       "        [5.2, 4.1, 1.5, 0.1],\n",
       "        [5.5, 4.2, 1.4, 0.2],\n",
       "        [4.9, 3.1, 1.5, 0.2],\n",
       "        [5. , 3.2, 1.2, 0.2],\n",
       "        [5.5, 3.5, 1.3, 0.2],\n",
       "        [4.9, 3.6, 1.4, 0.1],\n",
       "        [4.4, 3. , 1.3, 0.2],\n",
       "        [5.1, 3.4, 1.5, 0.2],\n",
       "        [5. , 3.5, 1.3, 0.3],\n",
       "        [4.5, 2.3, 1.3, 0.3],\n",
       "        [4.4, 3.2, 1.3, 0.2],\n",
       "        [5. , 3.5, 1.6, 0.6],\n",
       "        [5.1, 3.8, 1.9, 0.4],\n",
       "        [4.8, 3. , 1.4, 0.3],\n",
       "        [5.1, 3.8, 1.6, 0.2],\n",
       "        [4.6, 3.2, 1.4, 0.2],\n",
       "        [5.3, 3.7, 1.5, 0.2],\n",
       "        [5. , 3.3, 1.4, 0.2],\n",
       "        [7. , 3.2, 4.7, 1.4],\n",
       "        [6.4, 3.2, 4.5, 1.5],\n",
       "        [6.9, 3.1, 4.9, 1.5],\n",
       "        [5.5, 2.3, 4. , 1.3],\n",
       "        [6.5, 2.8, 4.6, 1.5],\n",
       "        [5.7, 2.8, 4.5, 1.3],\n",
       "        [6.3, 3.3, 4.7, 1.6],\n",
       "        [4.9, 2.4, 3.3, 1. ],\n",
       "        [6.6, 2.9, 4.6, 1.3],\n",
       "        [5.2, 2.7, 3.9, 1.4],\n",
       "        [5. , 2. , 3.5, 1. ],\n",
       "        [5.9, 3. , 4.2, 1.5],\n",
       "        [6. , 2.2, 4. , 1. ],\n",
       "        [6.1, 2.9, 4.7, 1.4],\n",
       "        [5.6, 2.9, 3.6, 1.3],\n",
       "        [6.7, 3.1, 4.4, 1.4],\n",
       "        [5.6, 3. , 4.5, 1.5],\n",
       "        [5.8, 2.7, 4.1, 1. ],\n",
       "        [6.2, 2.2, 4.5, 1.5],\n",
       "        [5.6, 2.5, 3.9, 1.1],\n",
       "        [5.9, 3.2, 4.8, 1.8],\n",
       "        [6.1, 2.8, 4. , 1.3],\n",
       "        [6.3, 2.5, 4.9, 1.5],\n",
       "        [6.1, 2.8, 4.7, 1.2],\n",
       "        [6.4, 2.9, 4.3, 1.3],\n",
       "        [6.6, 3. , 4.4, 1.4],\n",
       "        [6.8, 2.8, 4.8, 1.4],\n",
       "        [6.7, 3. , 5. , 1.7],\n",
       "        [6. , 2.9, 4.5, 1.5],\n",
       "        [5.7, 2.6, 3.5, 1. ],\n",
       "        [5.5, 2.4, 3.8, 1.1],\n",
       "        [5.5, 2.4, 3.7, 1. ],\n",
       "        [5.8, 2.7, 3.9, 1.2],\n",
       "        [6. , 2.7, 5.1, 1.6],\n",
       "        [5.4, 3. , 4.5, 1.5],\n",
       "        [6. , 3.4, 4.5, 1.6],\n",
       "        [6.7, 3.1, 4.7, 1.5],\n",
       "        [6.3, 2.3, 4.4, 1.3],\n",
       "        [5.6, 3. , 4.1, 1.3],\n",
       "        [5.5, 2.5, 4. , 1.3],\n",
       "        [5.5, 2.6, 4.4, 1.2],\n",
       "        [6.1, 3. , 4.6, 1.4],\n",
       "        [5.8, 2.6, 4. , 1.2],\n",
       "        [5. , 2.3, 3.3, 1. ],\n",
       "        [5.6, 2.7, 4.2, 1.3],\n",
       "        [5.7, 3. , 4.2, 1.2],\n",
       "        [5.7, 2.9, 4.2, 1.3],\n",
       "        [6.2, 2.9, 4.3, 1.3],\n",
       "        [5.1, 2.5, 3. , 1.1],\n",
       "        [5.7, 2.8, 4.1, 1.3],\n",
       "        [6.3, 3.3, 6. , 2.5],\n",
       "        [5.8, 2.7, 5.1, 1.9],\n",
       "        [7.1, 3. , 5.9, 2.1],\n",
       "        [6.3, 2.9, 5.6, 1.8],\n",
       "        [6.5, 3. , 5.8, 2.2],\n",
       "        [7.6, 3. , 6.6, 2.1],\n",
       "        [4.9, 2.5, 4.5, 1.7],\n",
       "        [7.3, 2.9, 6.3, 1.8],\n",
       "        [6.7, 2.5, 5.8, 1.8],\n",
       "        [7.2, 3.6, 6.1, 2.5],\n",
       "        [6.5, 3.2, 5.1, 2. ],\n",
       "        [6.4, 2.7, 5.3, 1.9],\n",
       "        [6.8, 3. , 5.5, 2.1],\n",
       "        [5.7, 2.5, 5. , 2. ],\n",
       "        [5.8, 2.8, 5.1, 2.4],\n",
       "        [6.4, 3.2, 5.3, 2.3],\n",
       "        [6.5, 3. , 5.5, 1.8],\n",
       "        [7.7, 3.8, 6.7, 2.2],\n",
       "        [7.7, 2.6, 6.9, 2.3],\n",
       "        [6. , 2.2, 5. , 1.5],\n",
       "        [6.9, 3.2, 5.7, 2.3],\n",
       "        [5.6, 2.8, 4.9, 2. ],\n",
       "        [7.7, 2.8, 6.7, 2. ],\n",
       "        [6.3, 2.7, 4.9, 1.8],\n",
       "        [6.7, 3.3, 5.7, 2.1],\n",
       "        [7.2, 3.2, 6. , 1.8],\n",
       "        [6.2, 2.8, 4.8, 1.8],\n",
       "        [6.1, 3. , 4.9, 1.8],\n",
       "        [6.4, 2.8, 5.6, 2.1],\n",
       "        [7.2, 3. , 5.8, 1.6],\n",
       "        [7.4, 2.8, 6.1, 1.9],\n",
       "        [7.9, 3.8, 6.4, 2. ],\n",
       "        [6.4, 2.8, 5.6, 2.2],\n",
       "        [6.3, 2.8, 5.1, 1.5],\n",
       "        [6.1, 2.6, 5.6, 1.4],\n",
       "        [7.7, 3. , 6.1, 2.3],\n",
       "        [6.3, 3.4, 5.6, 2.4],\n",
       "        [6.4, 3.1, 5.5, 1.8],\n",
       "        [6. , 3. , 4.8, 1.8],\n",
       "        [6.9, 3.1, 5.4, 2.1],\n",
       "        [6.7, 3.1, 5.6, 2.4],\n",
       "        [6.9, 3.1, 5.1, 2.3],\n",
       "        [5.8, 2.7, 5.1, 1.9],\n",
       "        [6.8, 3.2, 5.9, 2.3],\n",
       "        [6.7, 3.3, 5.7, 2.5],\n",
       "        [6.7, 3. , 5.2, 2.3],\n",
       "        [6.3, 2.5, 5. , 1.9],\n",
       "        [6.5, 3. , 5.2, 2. ],\n",
       "        [6.2, 3.4, 5.4, 2.3],\n",
       "        [5.9, 3. , 5.1, 1.8]]),\n",
       " 'target': array([0, 0, 0, 0, 0, 0, 0, 0, 0, 0, 0, 0, 0, 0, 0, 0, 0, 0, 0, 0, 0, 0,\n",
       "        0, 0, 0, 0, 0, 0, 0, 0, 0, 0, 0, 0, 0, 0, 0, 0, 0, 0, 0, 0, 0, 0,\n",
       "        0, 0, 0, 0, 0, 0, 1, 1, 1, 1, 1, 1, 1, 1, 1, 1, 1, 1, 1, 1, 1, 1,\n",
       "        1, 1, 1, 1, 1, 1, 1, 1, 1, 1, 1, 1, 1, 1, 1, 1, 1, 1, 1, 1, 1, 1,\n",
       "        1, 1, 1, 1, 1, 1, 1, 1, 1, 1, 1, 1, 2, 2, 2, 2, 2, 2, 2, 2, 2, 2,\n",
       "        2, 2, 2, 2, 2, 2, 2, 2, 2, 2, 2, 2, 2, 2, 2, 2, 2, 2, 2, 2, 2, 2,\n",
       "        2, 2, 2, 2, 2, 2, 2, 2, 2, 2, 2, 2, 2, 2, 2, 2, 2, 2]),\n",
       " 'frame': None,\n",
       " 'target_names': array(['setosa', 'versicolor', 'virginica'], dtype='<U10'),\n",
       " 'DESCR': '.. _iris_dataset:\\n\\nIris plants dataset\\n--------------------\\n\\n**Data Set Characteristics:**\\n\\n    :Number of Instances: 150 (50 in each of three classes)\\n    :Number of Attributes: 4 numeric, predictive attributes and the class\\n    :Attribute Information:\\n        - sepal length in cm\\n        - sepal width in cm\\n        - petal length in cm\\n        - petal width in cm\\n        - class:\\n                - Iris-Setosa\\n                - Iris-Versicolour\\n                - Iris-Virginica\\n                \\n    :Summary Statistics:\\n\\n    ============== ==== ==== ======= ===== ====================\\n                    Min  Max   Mean    SD   Class Correlation\\n    ============== ==== ==== ======= ===== ====================\\n    sepal length:   4.3  7.9   5.84   0.83    0.7826\\n    sepal width:    2.0  4.4   3.05   0.43   -0.4194\\n    petal length:   1.0  6.9   3.76   1.76    0.9490  (high!)\\n    petal width:    0.1  2.5   1.20   0.76    0.9565  (high!)\\n    ============== ==== ==== ======= ===== ====================\\n\\n    :Missing Attribute Values: None\\n    :Class Distribution: 33.3% for each of 3 classes.\\n    :Creator: R.A. Fisher\\n    :Donor: Michael Marshall (MARSHALL%PLU@io.arc.nasa.gov)\\n    :Date: July, 1988\\n\\nThe famous Iris database, first used by Sir R.A. Fisher. The dataset is taken\\nfrom Fisher\\'s paper. Note that it\\'s the same as in R, but not as in the UCI\\nMachine Learning Repository, which has two wrong data points.\\n\\nThis is perhaps the best known database to be found in the\\npattern recognition literature.  Fisher\\'s paper is a classic in the field and\\nis referenced frequently to this day.  (See Duda & Hart, for example.)  The\\ndata set contains 3 classes of 50 instances each, where each class refers to a\\ntype of iris plant.  One class is linearly separable from the other 2; the\\nlatter are NOT linearly separable from each other.\\n\\n.. topic:: References\\n\\n   - Fisher, R.A. \"The use of multiple measurements in taxonomic problems\"\\n     Annual Eugenics, 7, Part II, 179-188 (1936); also in \"Contributions to\\n     Mathematical Statistics\" (John Wiley, NY, 1950).\\n   - Duda, R.O., & Hart, P.E. (1973) Pattern Classification and Scene Analysis.\\n     (Q327.D83) John Wiley & Sons.  ISBN 0-471-22361-1.  See page 218.\\n   - Dasarathy, B.V. (1980) \"Nosing Around the Neighborhood: A New System\\n     Structure and Classification Rule for Recognition in Partially Exposed\\n     Environments\".  IEEE Transactions on Pattern Analysis and Machine\\n     Intelligence, Vol. PAMI-2, No. 1, 67-71.\\n   - Gates, G.W. (1972) \"The Reduced Nearest Neighbor Rule\".  IEEE Transactions\\n     on Information Theory, May 1972, 431-433.\\n   - See also: 1988 MLC Proceedings, 54-64.  Cheeseman et al\"s AUTOCLASS II\\n     conceptual clustering system finds 3 classes in the data.\\n   - Many, many more ...',\n",
       " 'feature_names': ['sepal length (cm)',\n",
       "  'sepal width (cm)',\n",
       "  'petal length (cm)',\n",
       "  'petal width (cm)'],\n",
       " 'filename': 'iris.csv',\n",
       " 'data_module': 'sklearn.datasets.data'}"
      ]
     },
     "execution_count": 2,
     "metadata": {},
     "output_type": "execute_result"
    }
   ],
   "source": [
    "# including the iris dataset in the code\n",
    "dataset = datasets.load_iris()\n",
    "# dataset display\n",
    "dataset"
   ]
  },
  {
   "cell_type": "code",
   "execution_count": 3,
   "metadata": {},
   "outputs": [
    {
     "data": {
      "text/plain": [
       "['sepal length (cm)',\n",
       " 'sepal width (cm)',\n",
       " 'petal length (cm)',\n",
       " 'petal width (cm)']"
      ]
     },
     "execution_count": 3,
     "metadata": {},
     "output_type": "execute_result"
    }
   ],
   "source": [
    "# displaying dataset features\n",
    "attributes=dataset.feature_names\n",
    "attributes"
   ]
  },
  {
   "cell_type": "code",
   "execution_count": 4,
   "metadata": {},
   "outputs": [
    {
     "data": {
      "text/plain": [
       "array([0, 0, 0, 0, 0, 0, 0, 0, 0, 0, 0, 0, 0, 0, 0, 0, 0, 0, 0, 0, 0, 0,\n",
       "       0, 0, 0, 0, 0, 0, 0, 0, 0, 0, 0, 0, 0, 0, 0, 0, 0, 0, 0, 0, 0, 0,\n",
       "       0, 0, 0, 0, 0, 0, 1, 1, 1, 1, 1, 1, 1, 1, 1, 1, 1, 1, 1, 1, 1, 1,\n",
       "       1, 1, 1, 1, 1, 1, 1, 1, 1, 1, 1, 1, 1, 1, 1, 1, 1, 1, 1, 1, 1, 1,\n",
       "       1, 1, 1, 1, 1, 1, 1, 1, 1, 1, 1, 1, 2, 2, 2, 2, 2, 2, 2, 2, 2, 2,\n",
       "       2, 2, 2, 2, 2, 2, 2, 2, 2, 2, 2, 2, 2, 2, 2, 2, 2, 2, 2, 2, 2, 2,\n",
       "       2, 2, 2, 2, 2, 2, 2, 2, 2, 2, 2, 2, 2, 2, 2, 2, 2, 2])"
      ]
     },
     "execution_count": 4,
     "metadata": {},
     "output_type": "execute_result"
    }
   ],
   "source": [
    "#  value for attributes\n",
    "A = (dataset.data)\n",
    "A\n",
    "B = (dataset.target)\n",
    "B "
   ]
  },
  {
   "cell_type": "code",
   "execution_count": 65,
   "metadata": {},
   "outputs": [],
   "source": [
    "# data selected for testing sets and training\n",
    "A_train, A_test, B_train, B_test = train_test_split(A,B, random_state = 42, test_size=0.3)"
   ]
  },
  {
   "cell_type": "markdown",
   "metadata": {},
   "source": [
    "2. Classification:\n",
    "\n",
    "a. Linear Discriminant Analysis\n",
    "\n"
   ]
  },
  {
   "cell_type": "code",
   "execution_count": 66,
   "metadata": {},
   "outputs": [],
   "source": [
    "class LinearDA:\n",
    "    \n",
    "    def fit(A, B):\n",
    "\n",
    "            \n",
    "        #  n number of records in total\n",
    "        n = B.shape[0]\n",
    "\n",
    "        #  The training set gets reshaped\n",
    "        A = A.reshape(n, -1)\n",
    "  \n",
    "        \n",
    "        #  Target val having different class val\n",
    "        cls_val = len(np.unique(B.reshape(-1))) \n",
    "\n",
    "        #  No. of features in training set\n",
    "        numbr_features = A.shape[1] \n",
    "        \n",
    "        \n",
    "        #  samples being inititialized as prior\n",
    "        pr = np.zeros(cls_val)\n",
    "\n",
    "        #  mean of samples being initialized\n",
    "        mean = np.zeros((cls_val, numbr_features))\n",
    "\n",
    "        #  cov_mat of samples being initialized\n",
    "        cv_mt = np.zeros((cls_val, numbr_features, numbr_features))\n",
    "\n",
    "        # for class values\n",
    "        for val in range(cls_val):\n",
    "            #  Generating index to separate the classes\n",
    "            i = (B == val)\n",
    "        \n",
    "            #  updating cov_mat\n",
    "            cv_mt[val] = np.cov(A[i, :], rowvar=0)\n",
    "\n",
    "            #  prior being updated\n",
    "            pr[val] = float(np.sum(i)) / n   \n",
    "\n",
    "            #  updating the mean\n",
    "            mean[val] = np.mean(A[i, :], axis=0)  \n",
    "\n",
    "        return pr, mean, cv_mt\n",
    "\n",
    "    def predict(A, pr, mean , cv_mt):  \n",
    "        \n",
    "        class_val = mean.shape[0] \n",
    "        \n",
    "        # reshaping  data\n",
    "        A = A.reshape(A.shape[0], -1)\n",
    "        \n",
    "        # Setting initially to zero\n",
    "        weight = np.zeros((A.shape[0], class_val))\n",
    "\n",
    "        for val in range(class_val): \n",
    "            # Calculating prob\n",
    "            n_dist_prob = multivariate_normal(mean=mean[val], cov=cv_mt[val])\n",
    "            # Calculating prob in X\n",
    "            for i, x in enumerate(A):\n",
    "                weight[i, val] = np.log(pr[val]) + n_dist_prob.logpdf(x)\n",
    "        prd = np.argmax(weight, axis=1)\n",
    "        return prd"
   ]
  },
  {
   "cell_type": "markdown",
   "metadata": {},
   "source": [
    "b. Logistic Regression"
   ]
  },
  {
   "cell_type": "code",
   "execution_count": 83,
   "metadata": {},
   "outputs": [],
   "source": [
    "class LogisticR():\n",
    "    def  __init__(self, lr = 0.001, epochs = 100):\n",
    "        self.bias = None\n",
    "        \n",
    "        self.epch = epochs\n",
    "\n",
    "        self.lr = lr\n",
    "\n",
    "        self.weight = None\n",
    "    \n",
    "    def fit(self, A, B_actual):\n",
    "        \n",
    "        # Features in training \n",
    "        n_featrs = A.shape[1]\n",
    "        \n",
    "        # bias and weight is initialized to zero\n",
    "        self.weight = np.zeros(n_featrs)\n",
    "        self.bias = 0\n",
    "        \n",
    "        # recording the loss in list\n",
    "        mse_list = []\n",
    "        stp_numbr_list = []\n",
    "\n",
    "        # records in total\n",
    "        n_recrds = A.shape[0]\n",
    "\n",
    "        # Iterating\n",
    "        for i in range(self.epch):\n",
    "                    \n",
    "            # using matrices weights and X Using dot products\n",
    "            lr_pred = (A @ self.weight) + self.bias\n",
    "            \n",
    "            #Approximating B\n",
    "            B_pred = self.sigmoid(lr_pred)\n",
    "            \n",
    "            # Calculating values for bias and weight by using derivation equations\n",
    "            new_bias = (1/n_recrds) * np.sum(B_pred - B_actual)\n",
    "            new_wt =  (1/n_recrds) * (A.T @ (B_pred - B_actual))\n",
    "\n",
    "            # Updating  bias and weight with the values\n",
    "            self.bias = self.bias - self.lr * new_bias\n",
    "            self.weight = self.weight - self.lr * new_wt\n",
    "            \n",
    "            #Calculating  mse\n",
    "            mse = np.mean((B_pred - B_actual)**2)\n",
    "        \n",
    "            # Saving step number and mse\n",
    "            stp_numbr_list.append(i) \n",
    "            mse_list.append(mse)\n",
    "                  \n",
    "        \n",
    "        return mse, mse_list, stp_numbr_list\n",
    "    \n",
    "    def predict(self, A):\n",
    "        \n",
    "        # using matrices weights and X Using dot products\n",
    "        lr_pred = (A @ self.weight) + self.bias\n",
    "        \n",
    "        #Approximation B\n",
    "        B_pred = self.sigmoid(lr_pred)\n",
    "        \n",
    "        predn = [1 if i > 0.5 else 0 for i in B_pred]\n",
    "        \n",
    "        return predn\n",
    "    \n",
    "\n",
    "    \n",
    "    def plot_loss(self, mse_list, stp_numbr_list):\n",
    "        plt.figure(figsize=(14,12))\n",
    "        plt.plot(stp_numbr_list, mse_list)\n",
    "        plt.scatter(stp_numbr_list, mse_list, marker=\".\", c= '#bcbd22', cmap='Red', edgecolors=\"Blue\")\n",
    "        plt.xlabel(\"Step number\", fontsize = 12)\n",
    "        plt.ylabel(\"Loss\", fontsize = 12)\n",
    "        plt.show()\n",
    "        plt.show()\n",
    "        \n",
    "    def accuracy(self, prd, B):\n",
    "        accuracy = np.sum(B == prd)/len(B)\n",
    "        return accuracy\n",
    "    \n",
    "    def sigmoid(self, x):\n",
    "        return 1/(1 + np.exp(-x))    "
   ]
  },
  {
   "cell_type": "markdown",
   "metadata": {},
   "source": [
    "\n",
    "Training:\n",
    "\n",
    "Linear Discriminant Analysis\n"
   ]
  },
  {
   "cell_type": "code",
   "execution_count": 84,
   "metadata": {},
   "outputs": [
    {
     "name": "stdout",
     "output_type": "stream",
     "text": [
      "[0.2952381  0.35238095 0.35238095]\n",
      "[[4.96451613 3.37741935 1.46451613 0.2483871 ]\n",
      " [5.86216216 2.72432432 4.21081081 1.3027027 ]\n",
      " [6.55945946 2.98648649 5.54594595 2.00540541]]\n",
      "[[[0.11569892 0.09817204 0.01669892 0.00677419]\n",
      "  [0.09817204 0.14113978 0.01950538 0.00712903]\n",
      "  [0.01669892 0.01950538 0.03436559 0.00877419]\n",
      "  [0.00677419 0.00712903 0.00877419 0.01191398]]\n",
      "\n",
      " [[0.28297297 0.08816817 0.19847598 0.05760511]\n",
      "  [0.08816817 0.08966967 0.09222973 0.04215465]\n",
      "  [0.19847598 0.09222973 0.24599099 0.08385886]\n",
      "  [0.05760511 0.04215465 0.08385886 0.04249249]]\n",
      "\n",
      " [[0.43414414 0.09777027 0.31913664 0.04939189]\n",
      "  [0.09777027 0.09897898 0.08758258 0.06146396]\n",
      "  [0.31913664 0.08758258 0.29644144 0.05224474]\n",
      "  [0.04939189 0.06146396 0.05224474 0.0883033 ]]]\n"
     ]
    }
   ],
   "source": [
    "# Creation of model\n",
    "lda = LinearDA()\n",
    "# training the model\n",
    "pr, mean, cv_mt = LinearDA.fit(A_train, B_train)\n",
    "# printing prior,mean,cov_mat\n",
    "print(pr)\n",
    "print(mean)\n",
    "print(cv_mt)"
   ]
  },
  {
   "cell_type": "markdown",
   "metadata": {},
   "source": [
    "Logistic Regression"
   ]
  },
  {
   "cell_type": "code",
   "execution_count": 85,
   "metadata": {},
   "outputs": [
    {
     "data": {
      "text/plain": [
       "array([0, 0, 0, 0, 0, 0, 0, 0, 0, 0, 0, 0, 0, 0, 0, 0, 0, 0, 0, 0, 0, 0,\n",
       "       0, 0, 0, 0, 0, 0, 0, 0, 0, 0, 0, 0, 0, 0, 0, 0, 0, 0, 0, 0, 0, 0,\n",
       "       0, 0, 0, 0, 0, 0, 1, 1, 1, 1, 1, 1, 1, 1, 1, 1, 1, 1, 1, 1, 1, 1,\n",
       "       1, 1, 1, 1, 1, 1, 1, 1, 1, 1, 1, 1, 1, 1, 1, 1, 1, 1, 1, 1, 1, 1,\n",
       "       1, 1, 1, 1, 1, 1, 1, 1, 1, 1, 1, 1, 2, 2, 2, 2, 2, 2, 2, 2, 2, 2,\n",
       "       2, 2, 2, 2, 2, 2, 2, 2, 2, 2, 2, 2, 2, 2, 2, 2, 2, 2, 2, 2, 2, 2,\n",
       "       2, 2, 2, 2, 2, 2, 2, 2, 2, 2, 2, 2, 2, 2, 2, 2, 2, 2])"
      ]
     },
     "execution_count": 85,
     "metadata": {},
     "output_type": "execute_result"
    }
   ],
   "source": [
    "# model in Logistic Regression\n",
    "B"
   ]
  },
  {
   "cell_type": "markdown",
   "metadata": {},
   "source": [
    "Model 1\n",
    "Type A vs (Type B and Type C )"
   ]
  },
  {
   "cell_type": "code",
   "execution_count": 86,
   "metadata": {},
   "outputs": [
    {
     "name": "stdout",
     "output_type": "stream",
     "text": [
      "[0 0 0 0 0 0 0 0 0 0 0 0 0 0 0 0 0 0 0 0 0 0 0 0 0 0 0 0 0 0 0 0 0 0 0 0 0\n",
      " 0 0 0 0 0 0 0 0 0 0 0 0 0 1 1 1 1 1 1 1 1 1 1 1 1 1 1 1 1 1 1 1 1 1 1 1 1\n",
      " 1 1 1 1 1 1 1 1 1 1 1 1 1 1 1 1 1 1 1 1 1 1 1 1 1 1 1 1 1 1 1 1 1 1 1 1 1\n",
      " 1 1 1 1 1 1 1 1 1 1 1 1 1 1 1 1 1 1 1 1 1 1 1 1 1 1 1 1 1 1 1 1 1 1 1 1 1\n",
      " 1 1]\n"
     ]
    }
   ],
   "source": [
    "# Defining B for model-1\n",
    "\n",
    "B_for_model1 = []\n",
    "\n",
    "for i in range(len(B)):\n",
    "    if(B[i] != 0):\n",
    "        B_for_model1.append(1)\n",
    "    else:\n",
    "        B_for_model1.append(0)\n",
    "B_for_model1 = np.array(B_for_model1)\n",
    "print(B_for_model1)"
   ]
  },
  {
   "cell_type": "code",
   "execution_count": 87,
   "metadata": {},
   "outputs": [
    {
     "name": "stdout",
     "output_type": "stream",
     "text": [
      "Training for MSE will give =  0.17006726638557979\n"
     ]
    },
    {
     "data": {
      "image/png": "[encoded data removed]",
      "text/plain": [
       "<Figure size 1008x864 with 1 Axes>"
      ]
     },
     "metadata": {
      "needs_background": "light"
     },
     "output_type": "display_data"
    }
   ],
   "source": [
    "# splitting the selected data for testing sets and training\n",
    "A_train_m1, A_test_m1, B_train_m1, B_test_m1 = train_test_split(A, B_for_model1, random_state = 42, test_size=0.3)\n",
    "\n",
    "#  Creating Model-1\n",
    "lr_m1 = LogisticR()\n",
    "\n",
    "# Training Model-1\n",
    "mse_m1, mse_list_m1, stp_numbr_list_m1 = lr_m1.fit(A_train_m1, B_train_m1)\n",
    "print(\"Training for MSE will give = \", mse_m1)\n",
    "\n",
    "# Plotting Model-1\n",
    "lr_m1.plot_loss(mse_list_m1, stp_numbr_list_m1)"
   ]
  },
  {
   "cell_type": "markdown",
   "metadata": {},
   "source": [
    "Model 2\n",
    "Type B vs (Type A and Type C )"
   ]
  },
  {
   "cell_type": "code",
   "execution_count": 96,
   "metadata": {},
   "outputs": [
    {
     "name": "stdout",
     "output_type": "stream",
     "text": [
      "[1 1 1 1 1 1 1 1 1 1 1 1 1 1 1 1 1 1 1 1 1 1 1 1 1 1 1 1 1 1 1 1 1 1 1 1 1\n",
      " 1 1 1 1 1 1 1 1 1 1 1 1 1 0 0 0 0 0 0 0 0 0 0 0 0 0 0 0 0 0 0 0 0 0 0 0 0\n",
      " 0 0 0 0 0 0 0 0 0 0 0 0 0 0 0 0 0 0 0 0 0 0 0 0 0 0 1 1 1 1 1 1 1 1 1 1 1\n",
      " 1 1 1 1 1 1 1 1 1 1 1 1 1 1 1 1 1 1 1 1 1 1 1 1 1 1 1 1 1 1 1 1 1 1 1 1 1\n",
      " 1 1]\n"
     ]
    }
   ],
   "source": [
    "# Defining B for model-2\n",
    "\n",
    "B_for_model2 = []\n",
    "\n",
    "for i in range(len(B)):\n",
    "    if(B[i] != 1):\n",
    "        B_for_model2.append(1)\n",
    "    else:\n",
    "        B_for_model2.append(0)\n",
    "B_for_model2 = np.array(B_for_model2)\n",
    "print(B_for_model2)"
   ]
  },
  {
   "cell_type": "code",
   "execution_count": 97,
   "metadata": {},
   "outputs": [
    {
     "name": "stdout",
     "output_type": "stream",
     "text": [
      "Training for MSE will give =  0.22957518608104796\n"
     ]
    },
    {
     "data": {
      "image/png": "[encoded data removed]",
      "text/plain": [
       "<Figure size 1008x864 with 1 Axes>"
      ]
     },
     "metadata": {
      "needs_background": "light"
     },
     "output_type": "display_data"
    }
   ],
   "source": [
    "# splitting the selected data for testing sets and training\n",
    "A_train_m2, A_test_m2, B_train_m2, B_test_m2 = train_test_split(A, B_for_model2, random_state = 42, test_size=0.3)\n",
    "\n",
    "#  Creating Model-1\n",
    "lr_m2 = LogisticR()\n",
    "\n",
    "# Training Model-1\n",
    "mse_m2, mse_list_m2, stp_numbr_list_m2 = lr_m2.fit(A_train_m2, B_train_m2)\n",
    "print(\"Training for MSE will give = \", mse_m2)\n",
    "\n",
    "# Plotting Model-1\n",
    "lr_m2.plot_loss(mse_list_m2, stp_numbr_list_m2)"
   ]
  },
  {
   "cell_type": "markdown",
   "metadata": {},
   "source": [
    "Model 3\n",
    "Type C vs (Type A and Type B )"
   ]
  },
  {
   "cell_type": "code",
   "execution_count": 98,
   "metadata": {},
   "outputs": [
    {
     "name": "stdout",
     "output_type": "stream",
     "text": [
      "[1 1 1 1 1 1 1 1 1 1 1 1 1 1 1 1 1 1 1 1 1 1 1 1 1 1 1 1 1 1 1 1 1 1 1 1 1\n",
      " 1 1 1 1 1 1 1 1 1 1 1 1 1 1 1 1 1 1 1 1 1 1 1 1 1 1 1 1 1 1 1 1 1 1 1 1 1\n",
      " 1 1 1 1 1 1 1 1 1 1 1 1 1 1 1 1 1 1 1 1 1 1 1 1 1 1 0 0 0 0 0 0 0 0 0 0 0\n",
      " 0 0 0 0 0 0 0 0 0 0 0 0 0 0 0 0 0 0 0 0 0 0 0 0 0 0 0 0 0 0 0 0 0 0 0 0 0\n",
      " 0 0]\n"
     ]
    }
   ],
   "source": [
    "# Defining B for model-3\n",
    "\n",
    "B_for_model3 = []\n",
    "\n",
    "for i in range(len(B)):\n",
    "    if(B[i] != 2):\n",
    "        B_for_model3.append(1)\n",
    "    else:\n",
    "        B_for_model3.append(0)\n",
    "B_for_model3 = np.array(B_for_model3)\n",
    "print(B_for_model3)"
   ]
  },
  {
   "cell_type": "code",
   "execution_count": 99,
   "metadata": {},
   "outputs": [
    {
     "name": "stdout",
     "output_type": "stream",
     "text": [
      "Training for MSE will give =  0.233490142346335\n"
     ]
    },
    {
     "data": {
      "image/png": "[encoded data removed]",
      "text/plain": [
       "<Figure size 1008x864 with 1 Axes>"
      ]
     },
     "metadata": {
      "needs_background": "light"
     },
     "output_type": "display_data"
    }
   ],
   "source": [
    "# splitting the selected data for testing sets and training\n",
    "A_train_m3, A_test_m3, B_train_m3, B_test_m3 = train_test_split(A, B_for_model3, random_state = 42, test_size=0.3)\n",
    "\n",
    "#  Creating Model-1\n",
    "lr_m3 = LogisticR()\n",
    "\n",
    "# Training Model-1\n",
    "mse_m3, mse_list_m3, stp_numbr_list_m3 = lr_m3.fit(A_train_m3, B_train_m3)\n",
    "print(\"Training for MSE will give = \", mse_m3)\n",
    "\n",
    "# Plotting Model-1\n",
    "lr_m3.plot_loss(mse_list_m3, stp_numbr_list_m3)"
   ]
  },
  {
   "cell_type": "markdown",
   "metadata": {},
   "source": [
    "Testing:\n",
    "\n",
    "Linear Discriminant Analysis:"
   ]
  },
  {
   "cell_type": "code",
   "execution_count": 100,
   "metadata": {},
   "outputs": [
    {
     "name": "stdout",
     "output_type": "stream",
     "text": [
      " Linear Discriminant Accuracy =  1.0\n"
     ]
    }
   ],
   "source": [
    "# Using test dataset for predicting\n",
    "pred = LinearDA.predict(A_test, pr, mean, cv_mt)\n",
    "# Accuracy \n",
    "acc = np.sum(B_test == pred) / len(B_test)\n",
    "print(\" Linear Discriminant Accuracy = \",acc)"
   ]
  },
  {
   "cell_type": "markdown",
   "metadata": {},
   "source": [
    "Logistic Regression:"
   ]
  },
  {
   "cell_type": "markdown",
   "metadata": {},
   "source": [
    "Model-1"
   ]
  },
  {
   "cell_type": "code",
   "execution_count": 101,
   "metadata": {},
   "outputs": [
    {
     "name": "stdout",
     "output_type": "stream",
     "text": [
      "Accuracy For Model-1 =  0.5777777777777777\n"
     ]
    }
   ],
   "source": [
    "# Accuracy for model 1\n",
    "#predicting\n",
    "pred_m1 = lr_m1.predict(A_test_m1)\n",
    "#generating accuracy\n",
    "acc_m1 = lr_m1.accuracy(pred_m1, B_test_m1)\n",
    "print(\"Accuracy For Model-1 = \",acc_m1)"
   ]
  },
  {
   "cell_type": "markdown",
   "metadata": {},
   "source": [
    "Model-2"
   ]
  },
  {
   "cell_type": "code",
   "execution_count": 105,
   "metadata": {},
   "outputs": [
    {
     "name": "stdout",
     "output_type": "stream",
     "text": [
      "Accuracy For MODEL-2 =  0.7111111111111111\n"
     ]
    }
   ],
   "source": [
    "# Accuracy for model 2\n",
    "#predicting\n",
    "pred_m2 = lr_m2.predict(A_test_m2)\n",
    "#generating accuracy\n",
    "acc_m2 = lr_m2.accuracy(pred_m2,B_test_m2)\n",
    "print(\"Accuracy For MODEL-2 = \",acc_m2)"
   ]
  },
  {
   "cell_type": "markdown",
   "metadata": {},
   "source": [
    "Model-3"
   ]
  },
  {
   "cell_type": "code",
   "execution_count": 106,
   "metadata": {},
   "outputs": [
    {
     "name": "stdout",
     "output_type": "stream",
     "text": [
      "Accuracy For Model-3 =  0.7111111111111111\n"
     ]
    }
   ],
   "source": [
    "# Accuracy for model 3\n",
    "#predicting\n",
    "pred_m3 = lr_m3.predict(A_test_m3)\n",
    "#generating accuracy\n",
    "acc_m3 = lr_m3.accuracy(pred_m3, B_test_m3)\n",
    "print(\"Accuracy For Model-3 = \",acc_m3)"
   ]
  },
  {
   "cell_type": "markdown",
   "metadata": {},
   "source": [
    "\n",
    "\n",
    "From the test results we get that Linear Discriminant Analysis has a better prediction accuracy when compared to Logistic Regression which is of 100%"
   ]
  }
 ],
 "metadata": {
  "kernelspec": {
   "display_name": "Python 3.9.12 ('base')",
   "language": "python",
   "name": "python3"
  },
  "language_info": {
   "codemirror_mode": {
    "name": "ipython",
    "version": 3
   },
   "file_extension": ".py",
   "mimetype": "text/x-python",
   "name": "python",
   "nbconvert_exporter": "python",
   "pygments_lexer": "ipython3",
   "version": "3.9.12"
  },
  "orig_nbformat": 4,
  "vscode": {
   "interpreter": {
    "hash": "886d5ead374c248a88e542b3362d4a2a699db30f125fd533335417ffeaaadd4b"
   }
  }
 },
 "nbformat": 4,
 "nbformat_minor": 2
}
